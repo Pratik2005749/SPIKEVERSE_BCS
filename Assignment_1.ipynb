{
  "nbformat": 4,
  "nbformat_minor": 0,
  "metadata": {
    "colab": {
      "provenance": []
    },
    "kernelspec": {
      "name": "python3",
      "display_name": "Python 3"
    },
    "language_info": {
      "name": "python"
    }
  },
  "cells": [
    {
      "cell_type": "markdown",
      "source": [
        "# TASK 1 : TABULAR Q LEARNING UPDATE\n"
      ],
      "metadata": {
        "id": "4Ik49TwSzFy5"
      }
    },
    {
      "cell_type": "code",
      "execution_count": 3,
      "metadata": {
        "colab": {
          "base_uri": "https://localhost:8080/"
        },
        "id": "2yTQwh2xx8cT",
        "outputId": "ae7a1983-5224-48e8-c6ac-25fca8e86414"
      },
      "outputs": [
        {
          "output_type": "stream",
          "name": "stdout",
          "text": [
            "[[0. 0. 0.]\n",
            " [0. 0. 0.]\n",
            " [0. 0. 0.]\n",
            " [0. 0. 0.]\n",
            " [0. 0. 0.]]\n"
          ]
        }
      ],
      "source": [
        "import numpy as np\n",
        "\n",
        "def init_q_table(n_states, n_actions):\n",
        "    return np.zeros((n_states, n_actions))\n",
        "\n",
        "q_table = init_q_table(5, 3)\n",
        "print(q_table)"
      ]
    },
    {
      "cell_type": "code",
      "source": [
        "import numpy as np\n",
        "\n",
        "def q_update(Q, s, a, r, s_next, alpha, gamma):\n",
        "    Q[s, a] = Q[s, a] + alpha * (r + gamma * np.max(Q[s_next]) - Q[s, a])\n",
        "    return Q\n",
        "Q = np.zeros((5, 3))\n",
        "Q = q_update(Q, s=0, a=1, r=10, s_next=2, alpha=0.1, gamma=0.9)\n",
        "print(Q)"
      ],
      "metadata": {
        "colab": {
          "base_uri": "https://localhost:8080/"
        },
        "id": "JGzjC02VyjSt",
        "outputId": "a91428bf-9e9e-4bfb-98ea-486f32539747"
      },
      "execution_count": 4,
      "outputs": [
        {
          "output_type": "stream",
          "name": "stdout",
          "text": [
            "[[0. 1. 0.]\n",
            " [0. 0. 0.]\n",
            " [0. 0. 0.]\n",
            " [0. 0. 0.]\n",
            " [0. 0. 0.]]\n"
          ]
        }
      ]
    },
    {
      "cell_type": "code",
      "source": [
        "import numpy as np\n",
        "\n",
        "GRID_SIZE = 4\n",
        "terminal_states = [(0, 0), (3, 3)]\n",
        "\n",
        "def get_reward(state):\n",
        "    if state in terminal_states:\n",
        "        return 0\n",
        "    return -1\n",
        "\n",
        "actions = {\n",
        "    0: (-1, 0),\n",
        "    1: (1, 0),\n",
        "    2: (0, -1),\n",
        "    3: (0, 1)\n",
        "}\n",
        "\n",
        "def next_state(state, action):\n",
        "    row, col = state\n",
        "    dr, dc = actions[action]\n",
        "    new_row = max(0, min(GRID_SIZE - 1, row + dr))\n",
        "    new_col = max(0, min(GRID_SIZE - 1, col + dc))\n",
        "    return (new_row, new_col)\n",
        "\n",
        "def state_to_index(state):\n",
        "    return state[0] * GRID_SIZE + state[1]\n",
        "\n",
        "def index_to_state(index):\n",
        "    return (index // GRID_SIZE, index % GRID_SIZE)\n",
        "\n",
        "state = (1, 1)\n",
        "action = 0\n",
        "new_state = next_state(state, action)\n",
        "reward = get_reward(new_state)\n",
        "print(\"Moved from\", state, \"to\", new_state, \"with reward\", reward)\n"
      ],
      "metadata": {
        "colab": {
          "base_uri": "https://localhost:8080/"
        },
        "id": "d4JKUXLxy5_h",
        "outputId": "bdb85c93-26f5-4093-a724-cb4cf40fa2e6"
      },
      "execution_count": 6,
      "outputs": [
        {
          "output_type": "stream",
          "name": "stdout",
          "text": [
            "Moved from (1, 1) to (0, 1) with reward -1\n"
          ]
        }
      ]
    },
    {
      "cell_type": "markdown",
      "source": [
        "# TASK 2 : EPSILON GREEDY POLICY ON A CUSTOM GRID WORLD"
      ],
      "metadata": {
        "id": "mC8rPMt70z5D"
      }
    },
    {
      "cell_type": "code",
      "source": [
        "import numpy as np\n",
        "\n",
        "def select_action(Q, state, epsilon):\n",
        "    if np.random.rand() < epsilon:\n",
        "        return np.random.choice(Q.shape[1])\n",
        "    return np.argmax(Q[state])\n",
        "\n",
        "Q = np.array([\n",
        "    [1, 5, 2, 0],\n",
        "    [0, 0, 0, 0],\n",
        "    [3, 1, 4, 2]\n",
        "])\n",
        "\n",
        "state = 0\n",
        "epsilon = 0.1\n",
        "\n",
        "actions_taken = [select_action(Q, state, epsilon) for _ in range(10)]\n",
        "print(\"Actions selected:\", actions_taken)\n"
      ],
      "metadata": {
        "colab": {
          "base_uri": "https://localhost:8080/"
        },
        "id": "ji93qCtYzur2",
        "outputId": "51af9e3f-6db3-4029-b7dd-7bfa92d8ce63"
      },
      "execution_count": 7,
      "outputs": [
        {
          "output_type": "stream",
          "name": "stdout",
          "text": [
            "Actions selected: [np.int64(1), np.int64(1), np.int64(1), np.int64(1), np.int64(1), np.int64(1), np.int64(1), np.int64(1), np.int64(1), np.int64(1)]\n"
          ]
        }
      ]
    },
    {
      "cell_type": "code",
      "source": [
        "import numpy as np\n",
        "import matplotlib.pyplot as plt\n",
        "\n",
        "GRID_SIZE = 4\n",
        "terminal_states = [(0, 0), (3, 3)]\n",
        "\n",
        "def get_reward(state):\n",
        "    if state in terminal_states:\n",
        "        return 0\n",
        "    return -1\n",
        "\n",
        "actions = {\n",
        "    0: (-1, 0),\n",
        "    1: (1, 0),\n",
        "    2: (0, -1),\n",
        "    3: (0, 1)\n",
        "}\n",
        "\n",
        "def next_state(state, action):\n",
        "    row, col = state\n",
        "    dr, dc = actions[action]\n",
        "    new_row = max(0, min(GRID_SIZE - 1, row + dr))\n",
        "    new_col = max(0, min(GRID_SIZE - 1, col + dc))\n",
        "    return (new_row, new_col)\n",
        "\n",
        "def state_to_index(state):\n",
        "    return state[0] * GRID_SIZE + state[1]\n",
        "\n",
        "def index_to_state(index):\n",
        "    return (index // GRID_SIZE, index % GRID_SIZE)\n",
        "\n",
        "def init_q_table(n_states, n_actions):\n",
        "    return np.zeros((n_states, n_actions))\n",
        "\n",
        "def q_update(Q, s, a, r, s_next, alpha, gamma):\n",
        "    Q[s, a] += alpha * (r + gamma * np.max(Q[s_next]) - Q[s, a])\n",
        "    return Q\n",
        "\n",
        "def select_action(Q, state, epsilon):\n",
        "    if np.random.rand() < epsilon:\n",
        "        return np.random.choice(Q.shape[1])\n",
        "    return np.argmax(Q[state])\n",
        "\n",
        "def run_training(epsilon):\n",
        "    Q = init_q_table(GRID_SIZE * GRID_SIZE, 4)\n",
        "    rewards = []\n",
        "    alpha = 0.1\n",
        "    gamma = 0.99\n",
        "    episodes = 500\n",
        "\n",
        "    for ep in range(episodes):\n",
        "        state = (np.random.randint(GRID_SIZE), np.random.randint(GRID_SIZE))\n",
        "        while state in terminal_states:\n",
        "            state = (np.random.randint(GRID_SIZE), np.random.randint(GRID_SIZE))\n",
        "        total_reward = 0\n",
        "\n",
        "        for step in range(100):\n",
        "            s = state_to_index(state)\n",
        "            a = select_action(Q, s, epsilon)\n",
        "            next_st = next_state(state, a)\n",
        "            s_next = state_to_index(next_st)\n",
        "            r = get_reward(next_st)\n",
        "            Q = q_update(Q, s, a, r, s_next, alpha, gamma)\n",
        "            state = next_st\n",
        "            total_reward += r\n",
        "            if next_st in terminal_states:\n",
        "                break\n",
        "        rewards.append(total_reward)\n",
        "\n",
        "    return rewards\n",
        "\n",
        "rewards_eps_01 = run_training(epsilon=0.1)\n",
        "rewards_eps_02 = run_training(epsilon=0.2)\n",
        "\n",
        "def moving_average(data, window=50):\n",
        "    return np.convolve(data, np.ones(window)/window, mode='valid')\n",
        "\n",
        "plt.figure(figsize=(10, 5))\n",
        "plt.plot(moving_average(rewards_eps_01), label='ε = 0.1')\n",
        "plt.plot(moving_average(rewards_eps_02), label='ε = 0.2')\n",
        "plt.xlabel('Episode')\n",
        "plt.ylabel('Moving Average Reward (window=50)')\n",
        "plt.title('Q-Learning in GridWorld: ε-Greedy Comparison')\n",
        "plt.legend()\n",
        "plt.grid(True)\n",
        "plt.show()\n"
      ],
      "metadata": {
        "colab": {
          "base_uri": "https://localhost:8080/",
          "height": 487
        },
        "id": "Q1tmZwB60QbU",
        "outputId": "b0e72a92-0cea-4d52-ba4c-a841724ce8be"
      },
      "execution_count": 8,
      "outputs": [
        {
          "output_type": "display_data",
          "data": {
            "text/plain": [
              "<Figure size 1000x500 with 1 Axes>"
            ],
            "image/png": "[encoded data removed]"
          },
          "metadata": {}
        }
      ]
    },
    {
      "cell_type": "markdown",
      "source": [
        "# TASK 3 : EXPERIENCE REPLAY BUFFER"
      ],
      "metadata": {
        "id": "mJmBMhxc1Act"
      }
    },
    {
      "cell_type": "code",
      "source": [
        "import numpy as np\n",
        "import random\n",
        "\n",
        "capacity = 10000\n",
        "buffer = []\n",
        "position = 0\n",
        "\n",
        "def push(state, action, reward, next_state, done):\n",
        "    global buffer, position\n",
        "    data = (state, action, reward, next_state, done)\n",
        "    if len(buffer) < capacity:\n",
        "        buffer.append(data)\n",
        "    else:\n",
        "        buffer[position] = data\n",
        "    position = (position + 1) % capacity\n",
        "\n",
        "def sample(batch_size):\n",
        "    batch = random.sample(buffer, batch_size)\n",
        "    states, actions, rewards, next_states, dones = zip(*batch)\n",
        "\n",
        "    states = np.array(states)\n",
        "    actions = np.array(actions)\n",
        "    rewards = np.array(rewards)\n",
        "    next_states = np.array(next_states)\n",
        "    dones = np.array(dones)\n",
        "\n",
        "    return states, actions, rewards, next_states, dones\n",
        "\n",
        "def buffer_len():\n",
        "    return len(buffer)\n",
        "\n",
        "if __name__ == \"__main__\":\n",
        "\n",
        "    for i in range(50):\n",
        "        state = np.array([i, i + 1])\n",
        "        action = i % 4\n",
        "        reward = float(i)\n",
        "        next_state = np.array([i + 1, i + 2])\n",
        "        done = (i % 10 == 0)\n",
        "\n",
        "        push(state, action, reward, next_state, done)\n",
        "\n",
        "    print(f\"Buffer size after pushing: {buffer_len()}\")\n",
        "\n",
        "    batch_size = 10\n",
        "    states, actions, rewards, next_states, dones = sample(batch_size)\n",
        "\n",
        "    print(\"Sampled states:\\n\", states)\n",
        "    print(\"Sampled actions:\\n\", actions)\n",
        "    print(\"Sampled rewards:\\n\", rewards)\n",
        "    print(\"Sampled next_states:\\n\", next_states)\n",
        "    print(\"Sampled dones:\\n\", dones)\n"
      ],
      "metadata": {
        "colab": {
          "base_uri": "https://localhost:8080/"
        },
        "id": "rhX_bukK0lM4",
        "outputId": "57b4d6b3-c208-427e-bd9c-3295a4a468ba"
      },
      "execution_count": 10,
      "outputs": [
        {
          "output_type": "stream",
          "name": "stdout",
          "text": [
            "Buffer size after pushing: 50\n",
            "Sampled states:\n",
            " [[14 15]\n",
            " [35 36]\n",
            " [16 17]\n",
            " [ 8  9]\n",
            " [47 48]\n",
            " [30 31]\n",
            " [21 22]\n",
            " [33 34]\n",
            " [49 50]\n",
            " [ 6  7]]\n",
            "Sampled actions:\n",
            " [2 3 0 0 3 2 1 1 1 2]\n",
            "Sampled rewards:\n",
            " [14. 35. 16.  8. 47. 30. 21. 33. 49.  6.]\n",
            "Sampled next_states:\n",
            " [[15 16]\n",
            " [36 37]\n",
            " [17 18]\n",
            " [ 9 10]\n",
            " [48 49]\n",
            " [31 32]\n",
            " [22 23]\n",
            " [34 35]\n",
            " [50 51]\n",
            " [ 7  8]]\n",
            "Sampled dones:\n",
            " [False False False False False  True False False False False]\n"
          ]
        }
      ]
    },
    {
      "cell_type": "code",
      "source": [
        "import numpy as np\n",
        "import random\n",
        "\n",
        "class ReplayBuffer:\n",
        "    def __init__(self, capacity):\n",
        "        self.capacity = capacity\n",
        "        self.buffer = []\n",
        "        self.position = 0\n",
        "\n",
        "    def push(self, state, action, reward, next_state, done):\n",
        "        data = (state, action, reward, next_state, done)\n",
        "        if len(self.buffer) < self.capacity:\n",
        "            self.buffer.append(data)\n",
        "        else:\n",
        "            self.buffer[self.position] = data\n",
        "        self.position = (self.position + 1) % self.capacity\n",
        "\n",
        "    def sample(self, batch_size):\n",
        "        batch = random.sample(self.buffer, batch_size)\n",
        "        states, actions, rewards, next_states, dones = zip(*batch)\n",
        "\n",
        "        states = np.array(states)\n",
        "        actions = np.array(actions)\n",
        "        rewards = np.array(rewards)\n",
        "        next_states = np.array(next_states)\n",
        "        dones = np.array(dones)\n",
        "\n",
        "        return states, actions, rewards, next_states, dones\n",
        "\n",
        "    def __len__(self):\n",
        "        return len(self.buffer)\n",
        "\n",
        "\n",
        "if __name__ == \"__main__\":\n",
        "    buffer = ReplayBuffer(capacity=100)\n",
        "\n",
        "    for _ in range(100):\n",
        "        state = np.random.randint(0, 10, size=(4,))\n",
        "        action = np.random.randint(0, 5)\n",
        "        reward = random.random()\n",
        "        next_state = np.random.randint(0, 10, size=(4,))\n",
        "        done = random.choice([True, False])\n",
        "\n",
        "        buffer.push(state, action, reward, next_state, done)\n",
        "\n",
        "    batch_size = 32\n",
        "    states, actions, rewards, next_states, dones = buffer.sample(batch_size)\n",
        "\n",
        "    print(\"Sampled batch shapes and types:\")\n",
        "    print(f\"States shape: {states.shape}, dtype: {states.dtype}\")\n",
        "    print(f\"Actions shape: {actions.shape}, dtype: {actions.dtype}\")\n",
        "    print(f\"Rewards shape: {rewards.shape}, dtype: {rewards.dtype}\")\n",
        "    print(f\"Next_states shape: {next_states.shape}, dtype: {next_states.dtype}\")\n",
        "    print(f\"Dones shape: {dones.shape}, dtype: {dones.dtype}\")\n"
      ],
      "metadata": {
        "colab": {
          "base_uri": "https://localhost:8080/"
        },
        "id": "NWGX7JTl2NFu",
        "outputId": "ee1ffbe0-713b-45b0-f2cd-342e52c63ed3"
      },
      "execution_count": 12,
      "outputs": [
        {
          "output_type": "stream",
          "name": "stdout",
          "text": [
            "Sampled batch shapes and types:\n",
            "States shape: (32, 4), dtype: int64\n",
            "Actions shape: (32,), dtype: int64\n",
            "Rewards shape: (32,), dtype: float64\n",
            "Next_states shape: (32, 4), dtype: int64\n",
            "Dones shape: (32,), dtype: bool\n"
          ]
        }
      ]
    },
    {
      "cell_type": "markdown",
      "source": [
        "# TASK 4 : DEEP Q-NETWORK WITH TARGET COPY"
      ],
      "metadata": {
        "id": "y5J6ooSH27WE"
      }
    },
    {
      "cell_type": "code",
      "source": [
        "import torch\n",
        "import torch.nn as nn\n",
        "import torch.nn.functional as F\n",
        "\n",
        "class DQNPolicy(nn.Module):\n",
        "    def __init__(self, obs_dim, num_actions):\n",
        "        super(DQNPolicy, self).__init__()\n",
        "        self.fc1 = nn.Linear(obs_dim, 128)\n",
        "        self.fc2 = nn.Linear(128, 128)\n",
        "        self.out = nn.Linear(128, num_actions)\n",
        "\n",
        "    def forward(self, x):\n",
        "        x = F.relu(self.fc1(x))\n",
        "        x = F.relu(self.fc2(x))\n",
        "        return self.out(x)\n",
        "\n",
        "class DQNTarget(nn.Module):\n",
        "    def __init__(self, obs_dim, num_actions):\n",
        "        super(DQNTarget, self).__init__()\n",
        "        self.fc1 = nn.Linear(obs_dim, 128)\n",
        "        self.fc2 = nn.Linear(128, 128)\n",
        "        self.out = nn.Linear(128, num_actions)\n",
        "\n",
        "    def forward(self, x):\n",
        "        x = F.relu(self.fc1(x))\n",
        "        x = F.relu(self.fc2(x))\n",
        "        return self.out(x)\n",
        "obs_dim = 4\n",
        "num_actions = 2\n",
        "\n",
        "policy_net = DQNPolicy(obs_dim, num_actions)\n",
        "target_net = DQNTarget(obs_dim, num_actions)\n",
        "\n",
        "sample_input = torch.randn(1, obs_dim)\n",
        "policy_output = policy_net(sample_input)\n",
        "target_output = target_net(sample_input)\n",
        "\n",
        "print(\"Policy output shape:\", policy_output.shape)\n",
        "print(\"Target output shape:\", target_output.shape)\n"
      ],
      "metadata": {
        "colab": {
          "base_uri": "https://localhost:8080/"
        },
        "id": "ZBP8rXfK3CZ6",
        "outputId": "58148bd5-bec6-46ab-a47c-0ed13c564fc6"
      },
      "execution_count": 13,
      "outputs": [
        {
          "output_type": "stream",
          "name": "stdout",
          "text": [
            "Policy output shape: torch.Size([1, 2])\n",
            "Target output shape: torch.Size([1, 2])\n"
          ]
        }
      ]
    },
    {
      "cell_type": "code",
      "source": [
        "def update_target(policy_net, target_net):\n",
        "    target_net.load_state_dict(policy_net.state_dict())\n"
      ],
      "metadata": {
        "id": "3py9g7jc3kzF"
      },
      "execution_count": 14,
      "outputs": []
    }
  ]
}